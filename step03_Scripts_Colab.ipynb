{
 "nbformat": 4,
 "nbformat_minor": 0,
 "metadata": {
  "colab": {
   "provenance": [],
   "gpuType": "T4",
   "toc_visible": true
  },
  "kernelspec": {
   "name": "python3",
   "display_name": "Python 3"
  },
  "language_info": {
   "name": "python"
  }
 },
 "cells": [
  {
   "cell_type": "markdown",
   "source": [
    "# pip"
   ],
   "metadata": {
    "id": "dvpwrbhWkuvF"
   }
  },
  {
   "cell_type": "code",
   "source": [
    "! pip install SimpleITK"
   ],
   "metadata": {
    "colab": {
     "base_uri": "https://localhost:8080/"
    },
    "id": "TvO8wSTIjZG7",
    "outputId": "58b2f299-c23a-4680-cabb-63a8242241ad"
   },
   "execution_count": null,
   "outputs": []
  },
  {
   "cell_type": "markdown",
   "source": [
    "# Readme\n",
    "1. 文件储存\n",
    "\n",
    "  - 在Colab环境下直接执行`git clone`时,下载文件与`sample_data`同级,其绝对路径即为文件名(如`filename/`),且为暂时文件,<mark>当Colab关闭后文件丢失</mark>.\n",
    "  - 若需要**长期存储**,可在关闭Colab前将其移动到Google Drive,在下次使用时再移动到Colab环境.\n",
    "  - 或直接于Google Drive中访问及操作文件,则其绝对路径为`drive/MyDrive/filename/`.\n",
    "  - <mark>Attentiono</mark>:为统一管理文件,以下涉及代码文件均存储于Google Drive,绝对路径为`drive/MyDrive/segmentation/`"
   ],
   "metadata": {
    "id": "SE7SkqpVGhVl"
   }
  },
  {
   "cell_type": "code",
   "source": [
    "from google.colab import drive\n",
    "drive.mount('/content/drive')"
   ],
   "metadata": {
    "id": "CXRT6es4SR_i"
   },
   "execution_count": null,
   "outputs": []
  },
  {
   "cell_type": "markdown",
   "source": [
    "# 0 Colab准备工作"
   ],
   "metadata": {
    "id": "8Ib3lgr1eQq6"
   }
  },
  {
   "cell_type": "markdown",
   "source": [
    "## 0.1 GPU信息输出"
   ],
   "metadata": {
    "id": "jrImcXXFejPn"
   }
  },
  {
   "cell_type": "code",
   "execution_count": null,
   "metadata": {
    "colab": {
     "base_uri": "https://localhost:8080/"
    },
    "id": "uoGxqF-BWBFo",
    "outputId": "694dcf7f-0443-494f-ff1d-f43a8c9a6802"
   },
   "source": [
    "# 连接到GPU,输出GPU信息\n",
    "! /opt/bin/nvidia-smi"
   ],
   "outputs": []
  },
  {
   "cell_type": "markdown",
   "source": [
    "## 0.2 挂载Google Drive"
   ],
   "metadata": {
    "id": "WLV9U8nEemrT"
   }
  },
  {
   "cell_type": "markdown",
   "source": [
    "### 0.2.1 手动代码挂载"
   ],
   "metadata": {
    "id": "bXvIow14ELW9"
   }
  },
  {
   "cell_type": "code",
   "source": [
    "# 挂载GoggleDrive\n",
    "from google.colab import drive\n",
    "drive.mount('/content/gdrive')"
   ],
   "metadata": {
    "colab": {
     "base_uri": "https://localhost:8080/"
    },
    "id": "1YppStVvX8qx",
    "outputId": "7e134d47-e170-4a2f-db1c-eb573289580f"
   },
   "execution_count": null,
   "outputs": []
  },
  {
   "cell_type": "markdown",
   "source": [
    "### 0.2.2 自动挂载\n",
    "左侧文件视图中选择链接Google Drive"
   ],
   "metadata": {
    "id": "AgB68k4JEP8k"
   }
  },
  {
   "cell_type": "code",
   "source": [
    "import os\n",
    "os.chdir(\"/content/gdrive/My Drive/Colab Notebooks/CTLungSeg\")\n",
    "\n",
    "# 展示路径下文件\n",
    "!ls '/content/gdrive/My Drive/Colab Notebooks/CTLungSeg'\n",
    "\n"
   ],
   "metadata": {
    "colab": {
     "base_uri": "https://localhost:8080/"
    },
    "id": "ibq9dgt3dcPh",
    "outputId": "8a161cb3-fc06-4bc9-f3d5-35bc04477e55"
   },
   "execution_count": null,
   "outputs": []
  },
  {
   "cell_type": "markdown",
   "source": [
    "# 1 代码环境准备工作"
   ],
   "metadata": {
    "id": "GmRamaDgeXQj"
   }
  },
  {
   "cell_type": "markdown",
   "source": [
    "## 1.1 Clone到Colab"
   ],
   "metadata": {
    "id": "mksdeDfre_gE"
   }
  },
  {
   "cell_type": "code",
   "source": [
    "# 克隆代码\n",
    "! git clone https://github.com/RiccardoBiondi/segmentation.git"
   ],
   "metadata": {
    "colab": {
     "base_uri": "https://localhost:8080/"
    },
    "id": "5eajhrWPDr1T",
    "outputId": "5daf4159-4593-4dca-b910-feb5a5382ae0"
   },
   "execution_count": null,
   "outputs": []
  },
  {
   "cell_type": "code",
   "source": [
    "# 展示Colab环境下对应目录下文件\n",
    "!ls segmentation/CTLungSeg"
   ],
   "metadata": {
    "colab": {
     "base_uri": "https://localhost:8080/"
    },
    "id": "a90Al3B-D4bo",
    "outputId": "2359b7a2-fde6-44a8-8070-e81ab4989cc1"
   },
   "execution_count": null,
   "outputs": []
  },
  {
   "cell_type": "code",
   "source": [
    "# 移动到Google Drive长期保存"
   ],
   "metadata": {
    "id": "iR2FGG98Ekwi"
   },
   "execution_count": null,
   "outputs": []
  },
  {
   "cell_type": "code",
   "source": [
    "# 展示Google Drive对应目录下文件\n",
    "!ls drive/MyDrive/segmentation/CTLungSeg"
   ],
   "metadata": {
    "colab": {
     "base_uri": "https://localhost:8080/"
    },
    "id": "zxIW4WIlFQ3v",
    "outputId": "c6b067c0-3b76-445c-d4c3-ca2d0d034d0c"
   },
   "execution_count": null,
   "outputs": []
  },
  {
   "cell_type": "markdown",
   "source": [
    "## 1.2 数据集下载"
   ],
   "metadata": {
    "id": "Ayysmu9ufNYl"
   }
  },
  {
   "cell_type": "markdown",
   "source": [
    "### ~1.2.1 下载到<mark>Colab</mark>环境~"
   ],
   "metadata": {
    "id": "k7eHyP8nFlVA"
   }
  },
  {
   "cell_type": "code",
   "source": [
    "# 数据集下载到Colab\n",
    "! mkdir segmentation/Examples\n",
    "! wget https://zenodo.org/record/3757476/files/COVID-19-CT-Seg_20cases.zip -P segmentation/Examples\n",
    "! unzip segmentation/Examples/COVID-19-CT-Seg_20cases.zip -d segmentation/Examples/COVID-19-CT"
   ],
   "metadata": {
    "colab": {
     "base_uri": "https://localhost:8080/"
    },
    "id": "j1YPhXZLGbRQ",
    "outputId": "e93d20ae-9afd-4865-b5b1-6b37d1c51a38"
   },
   "execution_count": null,
   "outputs": []
  },
  {
   "cell_type": "markdown",
   "source": [
    "### 1.2.2 下载到<mark>Google Drive</mark>"
   ],
   "metadata": {
    "id": "WUdQNQlHF1Wm"
   }
  },
  {
   "cell_type": "code",
   "source": [
    "# 数据集下载\n",
    "! mkdir drive/MyDrive/segmentation/Examples\n",
    "! wget https://zenodo.org/record/3757476/files/COVID-19-CT-Seg_20cases.zip -P drive/MyDrive/segmentation/Examples\n",
    "! unzip drive/MyDrive/segmentation/Examples/COVID-19-CT-Seg_20cases.zip -d drive/MyDrive/segmentation/Examples/COVID-19-CT"
   ],
   "metadata": {
    "colab": {
     "base_uri": "https://localhost:8080/"
    },
    "id": "5Xw31uJeGGzX",
    "outputId": "9fd0bc0b-6c69-4a06-f2b0-bbc0807b508e"
   },
   "execution_count": null,
   "outputs": []
  },
  {
   "cell_type": "markdown",
   "source": [
    "# 2 lung_extraction脚本(肺部提取)"
   ],
   "metadata": {
    "id": "IeR6j9NngxId"
   }
  },
  {
   "cell_type": "markdown",
   "source": [
    "## ~2.1 lung_extraction.ps1~\n",
    "Colab无法运行PowerShell?"
   ],
   "metadata": {
    "id": "POU6UWxBQyoM"
   }
  },
  {
   "cell_type": "code",
   "source": [
    "# 脚本执行: lung_extraction.ps1\n",
    "# /bin/bash: line 1: segmentation/lung_extraction.ps1: Permission denied\n",
    "\n",
    "# 赋予权限: ! chmod 777 -R segmentation/lung_extraction.ps1\n",
    "! chmod 777 -R segmentation/lung_extraction.ps1\n",
    "\n",
    "! segmentation/lung_extraction.ps1\n",
    "# 产生error: /usr/bin/env: ‘pwsh\\r’: No such file or directory\n",
    "\n",
    "# 转为执行lung_extraction.sh"
   ],
   "metadata": {
    "colab": {
     "base_uri": "https://localhost:8080/"
    },
    "id": "1IRCekTsEVQ0",
    "outputId": "c69310c4-9f45-48ba-a4f5-6956b6ad6c35"
   },
   "execution_count": null,
   "outputs": []
  },
  {
   "cell_type": "markdown",
   "source": [
    "## 2.2 lung_extraction.sh"
   ],
   "metadata": {
    "id": "Hwu4QTsWRV7k"
   }
  },
  {
   "cell_type": "code",
   "source": [
    "# 安装所需package\n",
    "! pip install SimpleITK lungmask\n",
    "\n",
    "# 目录和文件准备\n",
    "! mkdir drive/MyDrive/segmentation/Examples/INPUT\n",
    "! mkdir drive/MyDrive/segmentation/Examples/LUNG\n",
    "! mv drive/MyDrive/segmentation/Examples/COVID-19-CT/coronacases_002.nii.gz drive/MyDrive/segmentation/Examples/COVID-19-CT/coronacases_005.nii.gz drive/MyDrive/segmentation/Examples/INPUT\n",
    "\n",
    "# 赋予权限\n",
    "! chmod 777 -R drive/MyDrive/segmentation/lung_extraction.sh\n",
    "\n",
    "# 脚本执行\n",
    "! drive/MyDrive/segmentation/lung_extraction.sh drive/MyDrive/segmentation/Examples/INPUT/ drive/MyDrive/segmentation/Examples/LUNG/"
   ],
   "metadata": {
    "colab": {
     "base_uri": "https://localhost:8080/"
    },
    "id": "0NVFITmfJYVj",
    "outputId": "0004c2b6-8a82-4283-f9a1-01b4d3e160a4"
   },
   "execution_count": null,
   "outputs": []
  },
  {
   "cell_type": "markdown",
   "source": [
    "## 2.3 shell运行问题汇总"
   ],
   "metadata": {
    "id": "wyET20PfRvAe"
   }
  },
  {
   "cell_type": "markdown",
   "source": [
    "### 2.3.1 No Module Nameed CTLungSeg\n",
    "> 打开CTLungSeg中每个文件将`import CTLungSeg`改为`import drive.MyDrive.segmentation.segmentation.CTLungSeg`\n"
   ],
   "metadata": {
    "id": "5ydbNh5UNJDs"
   }
  },
  {
   "cell_type": "markdown",
   "source": [
    "### 2.3.2 脚本已经执行,但无法找到CTLungSeg.lung_extraction.py\n",
    "```shell\n",
    "Requirement already satisfied: SimpleITK in /usr/local/lib/python3.10/dist-packages (2.3.1)\n",
    "mkdir: cannot create directory `segmentation/Examples/INPUT`: File exists\n",
    "mkdir: cannot create directory `segmentation/Examples/LUNG`: File exists\n",
    "mv: cannot stat 'segmentation/Examples/COVID-19-CT/coronacases_002.nii.gz': No such file or directory\n",
    "mv: cannot stat 'segmentation/Examples/COVID-19-CT/coronacases_005.nii.gz': No such file or directory\n",
    "Found 1 files to process\n",
    "* Processing coronacases_002.nii.gz ...       /usr/bin/python3: Error while finding module specification for 'CTLungSeg.lung_extraction' (ModuleNotFoundError: No module named 'CTLungSeg')\n",
    "```\n",
    "> lung_extraction.sh脚本`line54`将`CTLungSeg.lung_extractions.sh`改为`drive.MyDrive.segmentation.CTLungSeg.lung_extraction.sh`"
   ],
   "metadata": {
    "id": "qTlc3BTIR28m"
   }
  },
  {
   "cell_type": "markdown",
   "source": [
    "### 2.3.3 输出文件与LUNG目录同级,且文件名为`LUNGcronacases_002.nrrd`\n",
    "```shell\n",
    "segmentation/lung_extraction.sh segmentation/Examples/INPUT/ segmentation/Examples/LUNG/\n",
    "```\n",
    "> 执行lung_extractions.sh时的input和output参数地址需要以`/`结尾"
   ],
   "metadata": {
    "id": "QkVpT7N0R6fy"
   }
  },
  {
   "cell_type": "markdown",
   "source": [
    "### 2.3.4 无法找到待处理文件\n",
    "```shell\n",
    "Could not find: segmentation/Examples/INPUTcoronacases_002.nii.gz\n",
    "```\n",
    "> 同2.3.3"
   ],
   "metadata": {
    "id": "pNr1APuzR9nW"
   }
  },
  {
   "cell_type": "markdown",
   "source": [
    "### 2.3.5 运行`lung_extraction.sh`无权限\n",
    "```shell\n",
    "Permission denied\n",
    "```\n",
    "> 在此之前执行`! chmod 777 -R segmentation/lung_extraction.sh`"
   ],
   "metadata": {
    "id": "5eoykXVpSBQS"
   }
  },
  {
   "cell_type": "markdown",
   "source": [
    "## 2.2. 结果可视化"
   ],
   "metadata": {
    "id": "7JvDr6P_hZTn"
   }
  },
  {
   "cell_type": "code",
   "source": [
    "import numpy as np\n",
    "import SimpleITK as sitk\n",
    "import matplotlib.pyplot as plt\n",
    "\n",
    "import zipfile\n",
    "import urllib.request\n",
    "from drive.MyDrive.segmentation.CTLungSeg.utils import read_image, write_volume\n",
    "\n",
    "#load the data\n",
    "C01 = read_image(filename=\"drive/MyDrive/segmentation/Examples/LUNG/coronacases_002.nii.gz.nrrd\")\n",
    "\n",
    "#Data Visualization\n",
    "\n",
    "# First of all convert the simple itk images to numpy array\n",
    "A01 = sitk.GetArrayFromImage(C01)\n",
    "\n",
    "# now flip them for a better visualization\n",
    "\n",
    "A01 = np.flip(A01, axis=1)\n",
    "\n",
    "\n",
    "plt.imshow(A01[150], cmap='gray')\n",
    "plt.show()"
   ],
   "metadata": {
    "colab": {
     "base_uri": "https://localhost:8080/",
     "height": 435
    },
    "id": "ZMUkmZ5RhYwB",
    "outputId": "2397ab1c-4cec-4739-91b5-01a97620485f"
   },
   "execution_count": null,
   "outputs": []
  },
  {
   "cell_type": "markdown",
   "source": [
    "# 3 labeling脚本(目标标记)"
   ],
   "metadata": {
    "id": "6ptAhAmBSklM"
   }
  },
  {
   "cell_type": "markdown",
   "source": [
    "## 3.1 labeling.sh"
   ],
   "metadata": {
    "id": "a9a7kp7UQZea"
   }
  },
  {
   "cell_type": "code",
   "source": [
    "! pip install SimpleITK\n",
    "\n",
    "# 目录准备\n",
    "! mkdir drive/MyDrive/segmentation/Examples/OUTPUT\n",
    "\n",
    "# 脚本权限\n",
    "! chmod 777 -R drive/MyDrive/segmentation/labeling.sh\n",
    "\n",
    "# 脚本labeling.sh执行\n",
    "! drive/MyDrive/segmentation/labeling.sh drive/MyDrive/segmentation/Examples/LUNG/ drive/MyDrive/segmentation/Examples/OUTPUT/"
   ],
   "metadata": {
    "colab": {
     "base_uri": "https://localhost:8080/"
    },
    "id": "y5Hff6rTP_SF",
    "outputId": "3d1d69e4-d83a-4b70-c231-e61f280fb273"
   },
   "execution_count": null,
   "outputs": []
  },
  {
   "cell_type": "markdown",
   "source": [
    "## 3.2 结果可视化"
   ],
   "metadata": {
    "id": "KF8qem_ikx5e"
   }
  },
  {
   "cell_type": "code",
   "source": [
    "import numpy as np\n",
    "import SimpleITK as sitk\n",
    "import matplotlib.pyplot as plt\n",
    "\n",
    "import zipfile\n",
    "import urllib.request\n",
    "from drive.MyDrive.segmentation.CTLungSeg.utils import read_image, write_volume\n",
    "\n",
    "#load the data\n",
    "C01 = read_image(filename=\"drive/MyDrive/segmentation/Examples/OUTPUT/coronacases_002.nrrd\")\n",
    "\n",
    "#Data Visualization\n",
    "\n",
    "# First of all convert the simple itk images to numpy array\n",
    "A01 = sitk.GetArrayFromImage(C01)\n",
    "\n",
    "# now flip them for a better visualization\n",
    "\n",
    "A01 = np.flip(A01, axis=1)\n",
    "\n",
    "\n",
    "plt.imshow(A01[150], cmap='gray')\n",
    "plt.show()"
   ],
   "metadata": {
    "colab": {
     "base_uri": "https://localhost:8080/",
     "height": 435
    },
    "id": "8wtT5MpfjjOy",
    "outputId": "8327d169-ecf1-441d-cfa2-c6b9faeb6744"
   },
   "execution_count": null,
   "outputs": []
  }
 ]
}
